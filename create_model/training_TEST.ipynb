{
 "cells": [
  {
   "cell_type": "code",
   "execution_count": 169,
   "metadata": {},
   "outputs": [],
   "source": [
    "import numpy as np\n",
    "import os\n",
    "\n",
    "os.environ['CUDA_VISIBLE_DEVICES'] = '1'\n",
    "os.environ['TF_FORCE_GPU_ALLOW_GROWTH'] = 'true'"
   ]
  },
  {
   "cell_type": "code",
   "execution_count": 170,
   "metadata": {},
   "outputs": [
    {
     "data": {
      "text/plain": [
       "(843, 30, 156)"
      ]
     },
     "execution_count": 170,
     "metadata": {},
     "output_type": "execute_result"
    }
   ],
   "source": [
    "actions = [\n",
    "\n",
    "    'not_stretching'\n",
    "    ,'stretching'\n",
    "\n",
    "]\n",
    "\n",
    "data = np.concatenate([\n",
    "#     np.load('dataset_TEST/seq_stand_1681377777.npy'),\n",
    "#     np.load('dataset_TEST/seq_down_1681377777.npy')\n",
    "    np.load('dataset_TEST/seq_not_stretching123_1682187496.npy')\n",
    "    ,np.load('dataset_TEST/seq_stretching123_1682188272.npy') \n",
    "    \n",
    "    \n",
    "], axis=0)\n",
    "\n",
    "data.shape"
   ]
  },
  {
   "cell_type": "code",
   "execution_count": 171,
   "metadata": {},
   "outputs": [
    {
     "name": "stdout",
     "output_type": "stream",
     "text": [
      "(843, 30, 155)\n",
      "(843,)\n"
     ]
    }
   ],
   "source": [
    "x_data = data[:, :, :-1] #라벨값을 뺀 데이터셋을 만듦\n",
    "labels = data[:, 0, -1] #라벨만 따로 만듦\n",
    "\n",
    "print(x_data.shape)\n",
    "print(labels.shape)"
   ]
  },
  {
   "cell_type": "code",
   "execution_count": 172,
   "metadata": {},
   "outputs": [
    {
     "data": {
      "text/plain": [
       "(843, 2)"
      ]
     },
     "execution_count": 172,
     "metadata": {},
     "output_type": "execute_result"
    }
   ],
   "source": [
    "from tensorflow.keras.utils import to_categorical\n",
    "\n",
    "y_data = to_categorical(labels, num_classes=len(actions))\n",
    "y_data.shape"
   ]
  },
  {
   "cell_type": "code",
   "execution_count": 173,
   "metadata": {},
   "outputs": [
    {
     "name": "stdout",
     "output_type": "stream",
     "text": [
      "(758, 30, 155) (758, 2)\n",
      "(85, 30, 155) (85, 2)\n"
     ]
    }
   ],
   "source": [
    "from sklearn.model_selection import train_test_split\n",
    "\n",
    "x_data = x_data.astype(np.float32)\n",
    "y_data = y_data.astype(np.float32)\n",
    "\n",
    "x_train, x_val, y_train, y_val = train_test_split(x_data, y_data, test_size=0.1, random_state=2021)\n",
    "\n",
    "print(x_train.shape, y_train.shape)\n",
    "print(x_val.shape, y_val.shape)"
   ]
  },
  {
   "cell_type": "code",
   "execution_count": 174,
   "metadata": {},
   "outputs": [
    {
     "name": "stdout",
     "output_type": "stream",
     "text": [
      "Model: \"sequential_18\"\n",
      "_________________________________________________________________\n",
      " Layer (type)                Output Shape              Param #   \n",
      "=================================================================\n",
      " lstm_18 (LSTM)              (None, 64)                56320     \n",
      "                                                                 \n",
      " dense_36 (Dense)            (None, 32)                2080      \n",
      "                                                                 \n",
      " dense_37 (Dense)            (None, 2)                 66        \n",
      "                                                                 \n",
      "=================================================================\n",
      "Total params: 58,466\n",
      "Trainable params: 58,466\n",
      "Non-trainable params: 0\n",
      "_________________________________________________________________\n"
     ]
    }
   ],
   "source": [
    "from tensorflow.keras.models import Sequential\n",
    "from tensorflow.keras.layers import LSTM, Dense\n",
    "\n",
    "model = Sequential([\n",
    "    LSTM(64, activation='relu', input_shape=x_train.shape[1:3]),\n",
    "    Dense(32, activation='relu'),\n",
    "    Dense(len(actions), activation='softmax')\n",
    "])\n",
    "\n",
    "model.compile(optimizer='adam', loss='categorical_crossentropy', metrics=['acc'])\n",
    "model.summary()"
   ]
  },
  {
   "cell_type": "code",
   "execution_count": 175,
   "metadata": {
    "scrolled": true
   },
   "outputs": [
    {
     "name": "stdout",
     "output_type": "stream",
     "text": [
      "Epoch 1/50\n",
      "22/24 [==========================>...] - ETA: 0s - loss: 29.1050 - acc: 0.4872\n",
      "Epoch 1: val_acc improved from -inf to 0.68235, saving model to models_TEST\\model_TEST1.h5\n",
      "24/24 [==============================] - 3s 35ms/step - loss: 27.4737 - acc: 0.4921 - val_loss: 4.5243 - val_acc: 0.6824 - lr: 0.0010\n",
      "Epoch 2/50\n",
      "24/24 [==============================] - ETA: 0s - loss: 1.4119 - acc: 0.8061\n",
      "Epoch 2: val_acc improved from 0.68235 to 0.90588, saving model to models_TEST\\model_TEST1.h5\n",
      "24/24 [==============================] - 1s 27ms/step - loss: 1.4119 - acc: 0.8061 - val_loss: 0.2772 - val_acc: 0.9059 - lr: 0.0010\n",
      "Epoch 3/50\n",
      "23/24 [===========================>..] - ETA: 0s - loss: 8.8887 - acc: 0.7609\n",
      "Epoch 3: val_acc did not improve from 0.90588\n",
      "24/24 [==============================] - 1s 25ms/step - loss: 8.9273 - acc: 0.7546 - val_loss: 6.9880 - val_acc: 0.7176 - lr: 0.0010\n",
      "Epoch 4/50\n",
      "24/24 [==============================] - ETA: 0s - loss: 1.4265 - acc: 0.8074\n",
      "Epoch 4: val_acc improved from 0.90588 to 0.96471, saving model to models_TEST\\model_TEST1.h5\n",
      "24/24 [==============================] - 1s 27ms/step - loss: 1.4265 - acc: 0.8074 - val_loss: 0.1612 - val_acc: 0.9647 - lr: 0.0010\n",
      "Epoch 5/50\n",
      "23/24 [===========================>..] - ETA: 0s - loss: 0.2453 - acc: 0.9429\n",
      "Epoch 5: val_acc did not improve from 0.96471\n",
      "24/24 [==============================] - 1s 23ms/step - loss: 0.2441 - acc: 0.9433 - val_loss: 0.1314 - val_acc: 0.9647 - lr: 0.0010\n",
      "Epoch 6/50\n",
      "22/24 [==========================>...] - ETA: 0s - loss: 0.1488 - acc: 0.9631\n",
      "Epoch 6: val_acc improved from 0.96471 to 0.97647, saving model to models_TEST\\model_TEST1.h5\n",
      "24/24 [==============================] - 1s 24ms/step - loss: 0.1400 - acc: 0.9657 - val_loss: 0.0746 - val_acc: 0.9765 - lr: 0.0010\n",
      "Epoch 7/50\n",
      "22/24 [==========================>...] - ETA: 0s - loss: 0.0963 - acc: 0.9744\n",
      "Epoch 7: val_acc improved from 0.97647 to 0.98824, saving model to models_TEST\\model_TEST1.h5\n",
      "24/24 [==============================] - 1s 23ms/step - loss: 0.0970 - acc: 0.9736 - val_loss: 0.0705 - val_acc: 0.9882 - lr: 0.0010\n",
      "Epoch 8/50\n",
      "23/24 [===========================>..] - ETA: 0s - loss: 0.0886 - acc: 0.9783\n",
      "Epoch 8: val_acc did not improve from 0.98824\n",
      "24/24 [==============================] - 1s 26ms/step - loss: 0.0889 - acc: 0.9763 - val_loss: 0.0640 - val_acc: 0.9882 - lr: 0.0010\n",
      "Epoch 9/50\n",
      "22/24 [==========================>...] - ETA: 0s - loss: 0.0889 - acc: 0.9759\n",
      "Epoch 9: val_acc did not improve from 0.98824\n",
      "24/24 [==============================] - 1s 22ms/step - loss: 0.0842 - acc: 0.9776 - val_loss: 0.0605 - val_acc: 0.9882 - lr: 0.0010\n",
      "Epoch 10/50\n",
      "24/24 [==============================] - ETA: 0s - loss: 0.0808 - acc: 0.9789\n",
      "Epoch 10: val_acc did not improve from 0.98824\n",
      "24/24 [==============================] - 1s 23ms/step - loss: 0.0808 - acc: 0.9789 - val_loss: 0.0563 - val_acc: 0.9882 - lr: 0.0010\n",
      "Epoch 11/50\n",
      "22/24 [==========================>...] - ETA: 0s - loss: 0.0703 - acc: 0.9815\n",
      "Epoch 11: val_acc did not improve from 0.98824\n",
      "24/24 [==============================] - 1s 21ms/step - loss: 0.0761 - acc: 0.9815 - val_loss: 0.0524 - val_acc: 0.9882 - lr: 0.0010\n",
      "Epoch 12/50\n",
      "22/24 [==========================>...] - ETA: 0s - loss: 0.0771 - acc: 0.9815\n",
      "Epoch 12: val_acc did not improve from 0.98824\n",
      "24/24 [==============================] - 1s 22ms/step - loss: 0.0729 - acc: 0.9828 - val_loss: 0.0489 - val_acc: 0.9882 - lr: 0.0010\n",
      "Epoch 13/50\n",
      "22/24 [==========================>...] - ETA: 0s - loss: 0.0674 - acc: 0.9844\n",
      "Epoch 13: val_acc did not improve from 0.98824\n",
      "24/24 [==============================] - 1s 21ms/step - loss: 0.0691 - acc: 0.9842 - val_loss: 0.0452 - val_acc: 0.9882 - lr: 0.0010\n",
      "Epoch 14/50\n",
      "24/24 [==============================] - ETA: 0s - loss: 0.0666 - acc: 0.9855\n",
      "Epoch 14: val_acc did not improve from 0.98824\n",
      "24/24 [==============================] - 1s 24ms/step - loss: 0.0666 - acc: 0.9855 - val_loss: 0.0426 - val_acc: 0.9882 - lr: 0.0010\n",
      "Epoch 15/50\n",
      "22/24 [==========================>...] - ETA: 0s - loss: 0.0640 - acc: 0.9858\n",
      "Epoch 15: val_acc did not improve from 0.98824\n",
      "24/24 [==============================] - 1s 21ms/step - loss: 0.0638 - acc: 0.9855 - val_loss: 0.0393 - val_acc: 0.9882 - lr: 0.0010\n",
      "Epoch 16/50\n",
      "24/24 [==============================] - ETA: 0s - loss: 0.0613 - acc: 0.9868\n",
      "Epoch 16: val_acc did not improve from 0.98824\n",
      "24/24 [==============================] - 1s 23ms/step - loss: 0.0613 - acc: 0.9868 - val_loss: 0.0375 - val_acc: 0.9882 - lr: 0.0010\n",
      "Epoch 17/50\n",
      "22/24 [==========================>...] - ETA: 0s - loss: 0.0586 - acc: 0.9886\n",
      "Epoch 17: val_acc did not improve from 0.98824\n",
      "24/24 [==============================] - 1s 22ms/step - loss: 0.0596 - acc: 0.9868 - val_loss: 0.0357 - val_acc: 0.9882 - lr: 0.0010\n",
      "Epoch 18/50\n",
      "22/24 [==========================>...] - ETA: 0s - loss: 0.0607 - acc: 0.9844\n",
      "Epoch 18: val_acc did not improve from 0.98824\n",
      "24/24 [==============================] - 0s 21ms/step - loss: 0.0574 - acc: 0.9855 - val_loss: 0.0330 - val_acc: 0.9882 - lr: 0.0010\n",
      "Epoch 19/50\n",
      "22/24 [==========================>...] - ETA: 0s - loss: 0.0587 - acc: 0.9858\n",
      "Epoch 19: val_acc did not improve from 0.98824\n",
      "24/24 [==============================] - 1s 21ms/step - loss: 0.0556 - acc: 0.9868 - val_loss: 0.0312 - val_acc: 0.9882 - lr: 0.0010\n",
      "Epoch 20/50\n",
      "24/24 [==============================] - ETA: 0s - loss: 0.0537 - acc: 0.9855\n",
      "Epoch 20: val_acc did not improve from 0.98824\n",
      "24/24 [==============================] - 1s 23ms/step - loss: 0.0537 - acc: 0.9855 - val_loss: 0.0296 - val_acc: 0.9882 - lr: 0.0010\n",
      "Epoch 21/50\n",
      "22/24 [==========================>...] - ETA: 0s - loss: 0.0508 - acc: 0.9872\n",
      "Epoch 21: val_acc did not improve from 0.98824\n",
      "24/24 [==============================] - 1s 22ms/step - loss: 0.0518 - acc: 0.9868 - val_loss: 0.0284 - val_acc: 0.9882 - lr: 0.0010\n",
      "Epoch 22/50\n",
      "22/24 [==========================>...] - ETA: 0s - loss: 0.0504 - acc: 0.9872\n",
      "Epoch 22: val_acc did not improve from 0.98824\n",
      "24/24 [==============================] - 0s 20ms/step - loss: 0.0511 - acc: 0.9855 - val_loss: 0.0268 - val_acc: 0.9882 - lr: 0.0010\n",
      "Epoch 23/50\n",
      "24/24 [==============================] - ETA: 0s - loss: 0.0505 - acc: 0.9868\n",
      "Epoch 23: val_acc did not improve from 0.98824\n",
      "24/24 [==============================] - 1s 25ms/step - loss: 0.0505 - acc: 0.9868 - val_loss: 0.0268 - val_acc: 0.9882 - lr: 0.0010\n",
      "Epoch 24/50\n",
      "22/24 [==========================>...] - ETA: 0s - loss: 0.0435 - acc: 0.9858\n",
      "Epoch 24: val_acc did not improve from 0.98824\n",
      "24/24 [==============================] - 0s 20ms/step - loss: 0.0481 - acc: 0.9855 - val_loss: 0.0255 - val_acc: 0.9882 - lr: 0.0010\n",
      "Epoch 25/50\n",
      "22/24 [==========================>...] - ETA: 0s - loss: 0.0501 - acc: 0.9844\n",
      "Epoch 25: val_acc did not improve from 0.98824\n",
      "24/24 [==============================] - 0s 21ms/step - loss: 0.0471 - acc: 0.9855 - val_loss: 0.0250 - val_acc: 0.9882 - lr: 0.0010\n",
      "Epoch 26/50\n",
      "22/24 [==========================>...] - ETA: 0s - loss: 0.0471 - acc: 0.9872\n",
      "Epoch 26: val_acc did not improve from 0.98824\n",
      "24/24 [==============================] - 0s 21ms/step - loss: 0.0460 - acc: 0.9868 - val_loss: 0.0236 - val_acc: 0.9882 - lr: 0.0010\n",
      "Epoch 27/50\n",
      "22/24 [==========================>...] - ETA: 0s - loss: 0.0466 - acc: 0.9858\n",
      "Epoch 27: val_acc did not improve from 0.98824\n",
      "24/24 [==============================] - 1s 23ms/step - loss: 0.0453 - acc: 0.9855 - val_loss: 0.0232 - val_acc: 0.9882 - lr: 0.0010\n",
      "Epoch 28/50\n",
      "24/24 [==============================] - ETA: 0s - loss: 0.0443 - acc: 0.9881\n",
      "Epoch 28: val_acc did not improve from 0.98824\n",
      "24/24 [==============================] - 1s 23ms/step - loss: 0.0443 - acc: 0.9881 - val_loss: 0.0225 - val_acc: 0.9882 - lr: 0.0010\n",
      "Epoch 29/50\n",
      "23/24 [===========================>..] - ETA: 0s - loss: 0.0452 - acc: 0.9864\n",
      "Epoch 29: val_acc did not improve from 0.98824\n",
      "24/24 [==============================] - 1s 24ms/step - loss: 0.0440 - acc: 0.9868 - val_loss: 0.0216 - val_acc: 0.9882 - lr: 0.0010\n",
      "Epoch 30/50\n",
      "22/24 [==========================>...] - ETA: 0s - loss: 0.0434 - acc: 0.9872\n",
      "Epoch 30: val_acc did not improve from 0.98824\n",
      "24/24 [==============================] - 1s 21ms/step - loss: 0.0427 - acc: 0.9868 - val_loss: 0.0210 - val_acc: 0.9882 - lr: 0.0010\n"
     ]
    },
    {
     "name": "stdout",
     "output_type": "stream",
     "text": [
      "Epoch 31/50\n",
      "22/24 [==========================>...] - ETA: 0s - loss: 0.0429 - acc: 0.9886\n",
      "Epoch 31: val_acc did not improve from 0.98824\n",
      "24/24 [==============================] - 0s 21ms/step - loss: 0.0425 - acc: 0.9881 - val_loss: 0.0215 - val_acc: 0.9882 - lr: 0.0010\n",
      "Epoch 32/50\n",
      "22/24 [==========================>...] - ETA: 0s - loss: 0.0380 - acc: 0.9886\n",
      "Epoch 32: val_acc did not improve from 0.98824\n",
      "24/24 [==============================] - 0s 21ms/step - loss: 0.0430 - acc: 0.9881 - val_loss: 0.0203 - val_acc: 0.9882 - lr: 0.0010\n",
      "Epoch 33/50\n",
      "22/24 [==========================>...] - ETA: 0s - loss: 0.0427 - acc: 0.9872\n",
      "Epoch 33: val_acc did not improve from 0.98824\n",
      "24/24 [==============================] - 1s 23ms/step - loss: 0.0416 - acc: 0.9868 - val_loss: 0.0207 - val_acc: 0.9882 - lr: 0.0010\n",
      "Epoch 34/50\n",
      "22/24 [==========================>...] - ETA: 0s - loss: 0.0288 - acc: 0.9915\n",
      "Epoch 34: val_acc did not improve from 0.98824\n",
      "24/24 [==============================] - 1s 22ms/step - loss: 0.0409 - acc: 0.9881 - val_loss: 0.0196 - val_acc: 0.9882 - lr: 0.0010\n",
      "Epoch 35/50\n",
      "23/24 [===========================>..] - ETA: 0s - loss: 0.0409 - acc: 0.9878\n",
      "Epoch 35: val_acc did not improve from 0.98824\n",
      "24/24 [==============================] - 1s 25ms/step - loss: 0.0404 - acc: 0.9881 - val_loss: 0.0186 - val_acc: 0.9882 - lr: 0.0010\n",
      "Epoch 36/50\n",
      "22/24 [==========================>...] - ETA: 0s - loss: 0.0337 - acc: 0.9901\n",
      "Epoch 36: val_acc did not improve from 0.98824\n",
      "24/24 [==============================] - 1s 22ms/step - loss: 0.0390 - acc: 0.9894 - val_loss: 0.0182 - val_acc: 0.9882 - lr: 0.0010\n",
      "Epoch 37/50\n",
      "22/24 [==========================>...] - ETA: 0s - loss: 0.0412 - acc: 0.9886\n",
      "Epoch 37: val_acc did not improve from 0.98824\n",
      "24/24 [==============================] - 0s 21ms/step - loss: 0.0385 - acc: 0.9894 - val_loss: 0.0187 - val_acc: 0.9882 - lr: 0.0010\n",
      "Epoch 38/50\n",
      "22/24 [==========================>...] - ETA: 0s - loss: 0.0350 - acc: 0.9901\n",
      "Epoch 38: val_acc did not improve from 0.98824\n",
      "24/24 [==============================] - 0s 21ms/step - loss: 0.0380 - acc: 0.9894 - val_loss: 0.0183 - val_acc: 0.9882 - lr: 0.0010\n",
      "Epoch 39/50\n",
      "22/24 [==========================>...] - ETA: 0s - loss: 0.0330 - acc: 0.9886\n",
      "Epoch 39: val_acc did not improve from 0.98824\n",
      "24/24 [==============================] - 1s 22ms/step - loss: 0.0378 - acc: 0.9881 - val_loss: 0.0182 - val_acc: 0.9882 - lr: 0.0010\n",
      "Epoch 40/50\n",
      "22/24 [==========================>...] - ETA: 0s - loss: 0.0386 - acc: 0.9901\n",
      "Epoch 40: val_acc improved from 0.98824 to 1.00000, saving model to models_TEST\\model_TEST1.h5\n",
      "24/24 [==============================] - 1s 22ms/step - loss: 0.0373 - acc: 0.9908 - val_loss: 0.0181 - val_acc: 1.0000 - lr: 0.0010\n",
      "Epoch 41/50\n",
      "22/24 [==========================>...] - ETA: 0s - loss: 0.0394 - acc: 0.9901\n",
      "Epoch 41: val_acc did not improve from 1.00000\n",
      "24/24 [==============================] - 1s 22ms/step - loss: 0.0370 - acc: 0.9908 - val_loss: 0.0168 - val_acc: 0.9882 - lr: 0.0010\n",
      "Epoch 42/50\n",
      "23/24 [===========================>..] - ETA: 0s - loss: 0.0369 - acc: 0.9891\n",
      "Epoch 42: val_acc did not improve from 1.00000\n",
      "24/24 [==============================] - 1s 26ms/step - loss: 0.0361 - acc: 0.9894 - val_loss: 0.0173 - val_acc: 0.9882 - lr: 0.0010\n",
      "Epoch 43/50\n",
      "22/24 [==========================>...] - ETA: 0s - loss: 0.0386 - acc: 0.9901\n",
      "Epoch 43: val_acc did not improve from 1.00000\n",
      "24/24 [==============================] - 1s 22ms/step - loss: 0.0361 - acc: 0.9908 - val_loss: 0.0172 - val_acc: 1.0000 - lr: 0.0010\n",
      "Epoch 44/50\n",
      "22/24 [==========================>...] - ETA: 0s - loss: 0.0381 - acc: 0.9886\n",
      "Epoch 44: val_acc did not improve from 1.00000\n",
      "24/24 [==============================] - 1s 21ms/step - loss: 0.0364 - acc: 0.9894 - val_loss: 0.0166 - val_acc: 0.9882 - lr: 0.0010\n",
      "Epoch 45/50\n",
      "22/24 [==========================>...] - ETA: 0s - loss: 0.0358 - acc: 0.9915\n",
      "Epoch 45: val_acc did not improve from 1.00000\n",
      "24/24 [==============================] - 1s 22ms/step - loss: 0.0350 - acc: 0.9921 - val_loss: 0.0167 - val_acc: 1.0000 - lr: 0.0010\n",
      "Epoch 46/50\n",
      "24/24 [==============================] - ETA: 0s - loss: 0.0351 - acc: 0.9921\n",
      "Epoch 46: val_acc did not improve from 1.00000\n",
      "24/24 [==============================] - 1s 24ms/step - loss: 0.0351 - acc: 0.9921 - val_loss: 0.0160 - val_acc: 0.9882 - lr: 0.0010\n",
      "Epoch 47/50\n",
      "23/24 [===========================>..] - ETA: 0s - loss: 0.0360 - acc: 0.9918\n",
      "Epoch 47: val_acc did not improve from 1.00000\n",
      "24/24 [==============================] - 1s 22ms/step - loss: 0.0351 - acc: 0.9921 - val_loss: 0.0160 - val_acc: 1.0000 - lr: 0.0010\n",
      "Epoch 48/50\n",
      "24/24 [==============================] - ETA: 0s - loss: 0.0343 - acc: 0.9908\n",
      "Epoch 48: val_acc did not improve from 1.00000\n",
      "24/24 [==============================] - 1s 23ms/step - loss: 0.0343 - acc: 0.9908 - val_loss: 0.0161 - val_acc: 1.0000 - lr: 0.0010\n",
      "Epoch 49/50\n",
      "22/24 [==========================>...] - ETA: 0s - loss: 0.0352 - acc: 0.9915\n",
      "Epoch 49: val_acc did not improve from 1.00000\n",
      "24/24 [==============================] - 1s 22ms/step - loss: 0.0335 - acc: 0.9921 - val_loss: 0.0157 - val_acc: 1.0000 - lr: 0.0010\n",
      "Epoch 50/50\n",
      "23/24 [===========================>..] - ETA: 0s - loss: 0.0349 - acc: 0.9905\n",
      "Epoch 50: val_acc did not improve from 1.00000\n",
      "24/24 [==============================] - 1s 24ms/step - loss: 0.0340 - acc: 0.9908 - val_loss: 0.0155 - val_acc: 1.0000 - lr: 0.0010\n"
     ]
    }
   ],
   "source": [
    "from tensorflow.keras.callbacks import ModelCheckpoint, ReduceLROnPlateau\n",
    "\n",
    "history = model.fit(\n",
    "    x_train,\n",
    "    y_train,\n",
    "    validation_data=(x_val, y_val),\n",
    "    epochs=50,\n",
    "    callbacks=[\n",
    "        ModelCheckpoint('models_TEST/model_TEST1.h5', monitor='val_acc', verbose=1, save_best_only=True, mode='auto'),\n",
    "        ReduceLROnPlateau(monitor='val_acc', factor=0.5, patience=50, verbose=1, mode='auto')\n",
    "    ]\n",
    ")"
   ]
  },
  {
   "cell_type": "code",
   "execution_count": 176,
   "metadata": {},
   "outputs": [
    {
     "data": {
      "image/png": "[encoded data removed]",
      "text/plain": [
       "<Figure size 1600x1000 with 2 Axes>"
      ]
     },
     "metadata": {},
     "output_type": "display_data"
    }
   ],
   "source": [
    "import matplotlib.pyplot as plt\n",
    "\n",
    "fig, loss_ax = plt.subplots(figsize=(16, 10))\n",
    "acc_ax = loss_ax.twinx()\n",
    "\n",
    "loss_ax.plot(history.history['loss'], 'y', label='train loss')\n",
    "loss_ax.plot(history.history['val_loss'], 'r', label='val loss')\n",
    "loss_ax.set_xlabel('epoch')\n",
    "loss_ax.set_ylabel('loss')\n",
    "loss_ax.legend(loc='upper left')\n",
    "\n",
    "acc_ax.plot(history.history['acc'], 'b', label='train acc')\n",
    "acc_ax.plot(history.history['val_acc'], 'g', label='val acc')\n",
    "acc_ax.set_ylabel('accuracy')\n",
    "acc_ax.legend(loc='upper left')\n",
    "\n",
    "plt.show()"
   ]
  },
  {
   "cell_type": "code",
   "execution_count": 177,
   "metadata": {},
   "outputs": [
    {
     "name": "stdout",
     "output_type": "stream",
     "text": [
      "WARNING:tensorflow:5 out of the last 13 calls to <function Model.make_predict_function.<locals>.predict_function at 0x00000276E4389750> triggered tf.function retracing. Tracing is expensive and the excessive number of tracings could be due to (1) creating @tf.function repeatedly in a loop, (2) passing tensors with different shapes, (3) passing Python objects instead of tensors. For (1), please define your @tf.function outside of the loop. For (2), @tf.function has reduce_retracing=True option that can avoid unnecessary retracing. For (3), please refer to https://www.tensorflow.org/guide/function#controlling_retracing and https://www.tensorflow.org/api_docs/python/tf/function for  more details.\n",
      "3/3 [==============================] - 0s 9ms/step\n"
     ]
    },
    {
     "data": {
      "text/plain": [
       "array([[[36,  0],\n",
       "        [10, 39]],\n",
       "\n",
       "       [[44,  5],\n",
       "        [17, 19]],\n",
       "\n",
       "       [[63, 22],\n",
       "        [ 0,  0]]], dtype=int64)"
      ]
     },
     "execution_count": 177,
     "metadata": {},
     "output_type": "execute_result"
    }
   ],
   "source": [
    "from sklearn.metrics import multilabel_confusion_matrix\n",
    "from tensorflow.keras.models import load_model\n",
    "\n",
    "model = load_model('models_TEST/model_TEST3.h5')\n",
    "\n",
    "y_pred = model.predict(x_val)\n",
    "\n",
    "multilabel_confusion_matrix(np.argmax(y_val, axis=1), np.argmax(y_pred, axis=1))"
   ]
  },
  {
   "cell_type": "code",
   "execution_count": null,
   "metadata": {},
   "outputs": [],
   "source": [
    "\n",
    "\n"
   ]
  }
 ],
 "metadata": {
  "kernelspec": {
   "display_name": "Python 3 (ipykernel)",
   "language": "python",
   "name": "python3"
  },
  "language_info": {
   "codemirror_mode": {
    "name": "ipython",
    "version": 3
   },
   "file_extension": ".py",
   "mimetype": "text/x-python",
   "name": "python",
   "nbconvert_exporter": "python",
   "pygments_lexer": "ipython3",
   "version": "3.10.9"
  }
 },
 "nbformat": 4,
 "nbformat_minor": 4
}
